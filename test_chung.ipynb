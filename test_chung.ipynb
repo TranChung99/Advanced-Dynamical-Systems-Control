{
  "cells": [
    {
      "cell_type": "code",
      "execution_count": null,
      "metadata": {
        "id": "R4nhmZ41Gv5M"
      },
      "outputs": [],
      "source": [
        "# !pip install control # For Google Colab only\n",
        "\n",
        "import numpy as np\n",
        "import matplotlib.pyplot as plt\n",
        "from control.matlab import *"
      ]
    },
    {
      "cell_type": "markdown",
      "metadata": {},
      "source": [
        "# Những thứ cần phải xem trước khi làm bài\n",
        "\n",
        "1. Con lắc ngược, động học con lắc ngược (hiểu đại khái những dữ kiện đầu bài cho là gì)\n",
        "2. Inverted Pendulum MPC with State Space Model: https://www.youtube.com/watch?v=egPRF5PHwOo&t=21s\n",
        "3. Còn lại thì tùy cơ ứng biến"
      ]
    },
    {
      "cell_type": "markdown",
      "metadata": {
        "id": "789DtT1tALsv"
      },
      "source": [
        "# Advanced Dynamical Systems Control\n",
        "\n",
        "Consider the following inverted pendulum system,\n",
        "\n",
        "![invpend.png](data:image/png;base64,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)\n",
        "\n",
        "where $\\theta$ is the pendulum angle (góc tạo bởi con lắc so với phương thẳng đứng), $\\tau$ is the input torque (moment xoắn đầu vào), $m$, $l$, $J$ are the pendulm mass (khôi lượng), length (chiều dài từ đầu con lắc đến tâm quả nặng) and inertia (quán tính) respectively.\n",
        "\n",
        "The viscous firiction coefficient (hệ số ma sát nhớt) is given by $\\mu$ and the gravity acceleration (gia tốc trọng trường) is given by $g$.\n",
        "\n",
        "Then, the dynamics of the system is written in the follows (động lực học của hê thống được viêts như sau).\n",
        "\n",
        "$J\\ddot{\\theta}(t)+\\mu\\dot{\\theta}(t)=mgl\\sin\\theta(t) + \\tau $"
      ]
    },
    {
      "cell_type": "markdown",
      "metadata": {
        "id": "2mJMgbAuFE-r"
      },
      "source": [
        "## TASK 1\n",
        "\n",
        "1. Rewrite the system in a state-space form. Assume the input is $\\tau$ and the output is $\\theta$. \n",
        "=> Mô tả hệ thống dưới dạng không gian-trạng thái. Đầu vào là $\\tau$ và đầu ra là góc $\\theta$\n",
        "2. Discretize the system by sampling period 1 ms. \n",
        "=>phân biệt hệ thống theo chu kỳ lấy mẫu 1ms\n",
        "3. Design a state feedback controller for the discritized system to be stable.\n",
        "=>Thiết kế bộ điều khiển phản hồi trạng thái để hệ thống phân biệt được ổn định.\n",
        "4. Show the input/output responce of the stabilized system where the initial angle is $\\theta=0.5$ [rad] and the initial angle speed is $\\dot{\\theta}=0$. (It means time series graphs of  and are needed.) \n",
        "=> Hiển thị phản hồi đầu ra, đầu vào của hệ thống, trong đó góc ban đầu là $\\theta=0.5$ [rad] và tốc độ góc ban đầu là $\\dot{\\theta}=0$. (tức là vẽ ra cái đồ thị theo thời gian)\n",
        "### NOTE:\n",
        "\n",
        "* TASK 1 does NOT require step or impulse responses. So do not use the functions `step` or `impulse`. => Task 1 không yêu càu phản hồi theo bước hay xung\n",
        "* The handout shows only a pole assignment method but you can apply another method if you know. Do not choose the feedback gain directory with try and error.\n",
        "* The input gets huge If you choose the closed loop poles as small values. You can get additional score if $|\\tau|<100$ or $|\\tau|<10$.\n",
        "\n"
      ]
    },
    {
      "cell_type": "code",
      "execution_count": null,
      "metadata": {
        "id": "fZ4ql5hAAGjz"
      },
      "outputs": [],
      "source": [
        "############################\n",
        "# Use the following variables for the system paremeters\n",
        "# Do not change these values\n",
        "m=0.107;\n",
        "J=1.84*10e-3;\n",
        "l=0.23;\n",
        "g=9.8;\n",
        "mu=2.56*10e-4;\n",
        "############################\n",
        "\n",
        "## Write your code with referring Handout #3 ##\n",
        "A=np.array([[-mu/J , -m*g*l/J],[1 , 0]])\n",
        "B=np.array([[1/J],[0]])\n",
        "C=np.array([[0,1]])\n",
        "###############################################\n",
        "\n",
        "\n",
        "fig1, ax1 = plt.subplots(2,1)\n",
        "ax1[0].step(t,u1)\n",
        "ax1[0].set_xlim(0,1)\n",
        "ax1[0].set_ylabel(r'$\\tau$ [Nm]')\n",
        "ax1[1].step(t,y1)\n",
        "ax1[1].set_xlim(0,1)\n",
        "ax1[1].set_xlabel('Time [s]')\n",
        "ax1[1].set_ylabel(r'$\\theta$ [rad]')\n"
      ]
    },
    {
      "cell_type": "markdown",
      "metadata": {
        "id": "1UPvKLFWAKsH"
      },
      "source": [
        "## TASK 2\n",
        "\n",
        "In many cases, angle speeds are more difficult to measure than angles. State observers can solves this problem.\n",
        "\n",
        "1. Design a state observer to estimate the angle speed for the system.\n",
        "=>Thiết kế một bộ quan sát trạng thái để ước tính tốc độ góc cho hệ thống.\n",
        "2. Show the input/output response using estimated states for feedback controller designed in TASK1. Also show the estimated states and the real state in a same graph for the comparison.\n",
        "=>Hiển thị phản hồi đầu vào / đầu ra bằng cách sử dụng các trạng thái ước tính cho bộ điều khiển phản hồi được thiết kế trong TASK1. Đồng thời hiển thị trạng thái ước tính và trạng thái thực trong cùng một biểu đồ để so sánh."
      ]
    },
    {
      "cell_type": "code",
      "execution_count": null,
      "metadata": {
        "id": "rxLlr5YlGGTn"
      },
      "outputs": [],
      "source": [
        "## Write your code with referring Handout #3 ##\n",
        "\n",
        "###############################################\n",
        "\n",
        "# Đo góc \n",
        "tx=np.arange(0,1.001,0.001)\n",
        "fig3, ax3 = plt.subplots(2,1)\n",
        "ax3[0].step(tx,x2[0,:].reshape(1001,1),label='True')\n",
        "ax3[0].step(tx,q2[0,:].reshape(1001,1),label='Estimated')\n",
        "ax3[0].legend()\n",
        "ax3[0].set_ylabel(r'$\\theta$ [rad]')\n",
        "\n",
        "# Đo vận tốc góc\n",
        "ax3[1].step(tx,x2[1,:].reshape(1001,1),label='True')\n",
        "ax3[1].step(tx,q2[1,:].reshape(1001,1),label='Estimated')\n",
        "ax3[1].legend()\n",
        "ax3[1].set_xlabel('Time [s]')\n",
        "ax3[1].set_ylabel(r'$\\dot\\theta$ [rad/s]')\n",
        "\n",
        "# Tune the range to be easy to compare\n",
        "# Do not need to show to the end time of simulation\n",
        "ax3[0].set_xlim(0,0.1)\n",
        "ax3[1].set_xlim(0,0.1)\n",
        "ax3[0].set_ylim(-10,10)\n",
        "ax3[1].set_ylim(-10,10)\n"
      ]
    },
    {
      "cell_type": "markdown",
      "metadata": {
        "id": "Ss7HPo4vGGnI"
      },
      "source": [
        "## TASK 3\n",
        "\n",
        "Quantization should be considered when low resolution acutuators/sensors or low capacity network are used in a system.\n",
        "(Lượng tử hóa cần được xem xét khi sử dụng bộ biến âm / cảm biến có độ phân giải thấp hoặc mạng dung lượng thấp trong một hệ thống.).\n",
        "One of the quantization method, a $\\Delta\\Sigma$ modulator, is given by (một trong những phương pháp lượng tử hóa, phương pháp sử dụng bộ điều chế $\\Delta\\Sigma$)\n",
        "\n",
        "$\\left\\{\\begin{array}{l}\n",
        "\\xi[k+1]=\\xi[k]+v[k]-u[k]\\\\\n",
        "v[k]=q\\left[-\\xi[k]+u[k]\\right]\n",
        "\\end{array}\n",
        "\\right.$\n",
        "\n",
        "1. Simulate the system with input quantization by a  modulator, where the quantization interval $d=1$. (You can also choose a larger value. Output quantization is your option.)\n",
        "=>Mô phỏng hệ thống với lượng tử hóa đầu vào bằng bộ điều chế, trong đó khoảng lượng tử hóa d = 1. (Bạn cũng có thể chọn một giá trị lớn hơn. Lượng tử hóa đầu ra là tùy chọn của bạn.)\n",
        "2. Show the input/output response of the quantized system. Also show the responce of the quantized system without a  modulator (\"simple static quantization\" in the handouts)\n",
        "=>Hiển thị phản ứng đầu vào / đầu ra của hệ thống lượng tử hóa. Đồng thời hiển thị sự hồi sinh của hệ thống lượng tử hóa mà không có bộ điều biến (\"lượng tử hóa tĩnh đơn giản\" trong tài liệu phát)"
      ]
    },
    {
      "cell_type": "code",
      "execution_count": null,
      "metadata": {
        "id": "WOlTtfiVWKPz"
      },
      "outputs": [],
      "source": [
        "## Write your code with referring Handout #5 ##\n",
        "\n",
        "###############################################\n",
        "\n",
        "\n",
        "\n",
        "fig4, ax4 = plt.subplots(2,1)\n",
        "ax4[0].step(t,v3, label='With modulator')\n",
        "ax4[0].step(t,v4, label='Without modulator')\n",
        "ax4[0].set_xlim(0,1)\n",
        "ax4[0].set_ylabel(r'$\\tau$ [Nm]')\n",
        "ax4[0].legend()\n",
        "ax4[1].step(t,y3, label='With modulator')\n",
        "ax4[1].step(t,y4, label='Without modulator')\n",
        "ax4[1].legend()\n",
        "ax4[1].set_xlim(0,1)\n",
        "ax4[1].set_xlabel('Time [s]')\n",
        "ax4[1].set_ylabel(r'$\\theta$ [rad]')\n",
        "\n"
      ]
    }
  ],
  "metadata": {
    "colab": {
      "name": "finalexam2022.ipynb",
      "provenance": [],
      "toc_visible": true
    },
    "kernelspec": {
      "display_name": "Python 3.9.12 ('datbt-env')",
      "language": "python",
      "name": "python3"
    },
    "language_info": {
      "codemirror_mode": {
        "name": "ipython",
        "version": 3
      },
      "file_extension": ".py",
      "mimetype": "text/x-python",
      "name": "python",
      "nbconvert_exporter": "python",
      "pygments_lexer": "ipython3",
      "version": "3.9.12"
    },
    "vscode": {
      "interpreter": {
        "hash": "b5270e03699213484edb5d9f8b8ad342444daf61ed35a02a319cff205752d3a9"
      }
    }
  },
  "nbformat": 4,
  "nbformat_minor": 0
}
