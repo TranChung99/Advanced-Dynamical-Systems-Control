{
 "cells": [
  {
   "cell_type": "code",
   "execution_count": 6,
   "metadata": {},
   "outputs": [],
   "source": [
    "import numpy as np\n",
    "import matplotlib.pyplot as plt\n",
    "from control.matlab import *"
   ]
  },
  {
   "cell_type": "code",
   "execution_count": 8,
   "metadata": {},
   "outputs": [
    {
     "name": "stdout",
     "output_type": "stream",
     "text": [
      "<LinearIOSystem>: sys[3]\n",
      "Inputs (1): ['u[0]']\n",
      "Outputs (2): ['y[0]', 'y[1]']\n",
      "States (2): ['x[0]', 'x[1]']\n",
      "\n",
      "A = [[ 0.  1.]\n",
      "     [-2.  3.]]\n",
      "\n",
      "B = [[0.]\n",
      "     [1.]]\n",
      "\n",
      "C = [[1. 0.]\n",
      "     [0. 1.]]\n",
      "\n",
      "D = [[0.]\n",
      "     [0.]]\n",
      "\n",
      "(array([1., 2.]), matrix([[-0.70710678, -0.4472136 ],\n",
      "        [-0.70710678, -0.89442719]]))\n"
     ]
    }
   ],
   "source": [
    "A=[[0, 1] ; -2, 3'\n",
    "B='0;1'\n",
    "C='1 0;0 1'\n",
    "P1=ss(A,B,C,0)\n",
    "print(P1)\n",
    "print(np.linalg.eig(P1.A))"
   ]
  },
  {
   "cell_type": "code",
   "execution_count": 9,
   "metadata": {},
   "outputs": [
    {
     "name": "stdout",
     "output_type": "stream",
     "text": [
      "[[-8.  2.]]\n"
     ]
    }
   ],
   "source": [
    "K=place(P1.A,P1.B,[-2, 3])\n",
    "print(K)"
   ]
  },
  {
   "cell_type": "code",
   "execution_count": 10,
   "metadata": {},
   "outputs": [
    {
     "name": "stdout",
     "output_type": "stream",
     "text": [
      "<LinearICSystem>: sys[5]\n",
      "Inputs (1): ['u[0]']\n",
      "Outputs (2): ['y[0]', 'y[1]']\n",
      "States (2): ['sys[3]_x[0]', 'sys[3]_x[1]']\n",
      "\n",
      "A = [[0. 1.]\n",
      "     [6. 1.]]\n",
      "\n",
      "B = [[0.]\n",
      "     [1.]]\n",
      "\n",
      "C = [[1. 0.]\n",
      "     [0. 1.]]\n",
      "\n",
      "D = [[0.]\n",
      "     [0.]]\n",
      "\n",
      "(array([-2.,  3.]), matrix([[-0.4472136 , -0.31622777],\n",
      "        [ 0.89442719, -0.9486833 ]]))\n"
     ]
    }
   ],
   "source": [
    "P2=feedback(P1,K)\n",
    "print(P2)\n",
    "print(np.linalg.eig(P2.A))"
   ]
  },
  {
   "cell_type": "code",
   "execution_count": 11,
   "metadata": {},
   "outputs": [],
   "source": [
    "t=np.arange(0,10,0.001)\n",
    "u=np.zeros(t.size)\n",
    "x0=np.array([[1],[-1]])\n",
    "y1,t,x1out=lsim(P1,u,t,x0)\n",
    "y2,t,x2out=lsim(P2,u,t,x0)"
   ]
  },
  {
   "cell_type": "code",
   "execution_count": 12,
   "metadata": {},
   "outputs": [
    {
     "data": {
      "text/plain": [
       "Text(0, 0.5, 'x')"
      ]
     },
     "execution_count": 12,
     "metadata": {},
     "output_type": "execute_result"
    },
    {
     "data": {
      "image/png": "[encoded data removed]",
      "text/plain": [
       "<Figure size 432x288 with 1 Axes>"
      ]
     },
     "metadata": {
      "needs_background": "light"
     },
     "output_type": "display_data"
    }
   ],
   "source": [
    "plt.plot(t,y2)\n",
    "plt.xlabel('time')\n",
    "plt.ylabel('x')"
   ]
  }
 ],
 "metadata": {
  "kernelspec": {
   "display_name": "Python 3.9.12 ('datbt-env')",
   "language": "python",
   "name": "python3"
  },
  "language_info": {
   "codemirror_mode": {
    "name": "ipython",
    "version": 3
   },
   "file_extension": ".py",
   "mimetype": "text/x-python",
   "name": "python",
   "nbconvert_exporter": "python",
   "pygments_lexer": "ipython3",
   "version": "3.9.12"
  },
  "orig_nbformat": 4,
  "vscode": {
   "interpreter": {
    "hash": "b5270e03699213484edb5d9f8b8ad342444daf61ed35a02a319cff205752d3a9"
   }
  }
 },
 "nbformat": 4,
 "nbformat_minor": 2
}
